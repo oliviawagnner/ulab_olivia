{
 "cells": [
  {
   "cell_type": "markdown",
   "id": "21a1f0d2-d75c-4443-b816-1d1db3760454",
   "metadata": {},
   "source": [
    "# HW 7 - Libraries + Modules\n",
    "ULAB - Physics and Astronomy Division \\\n",
    "Due **Wednesday, November 6th, 2024 at 11:59pm** on Gradescope\n",
    "\n",
    "--------------------------------------------------------------\n",
    "\n",
    "## Module vs. Package vs. Library\n",
    "### Module\n",
    "A **module** is a single file containing Python code (typically ending in a `.py` extension) that contains functions and variables. \n",
    "- They can be imported into other Python files or notebooks\n",
    "- You use modules to organize code into smaller, reuseable parts\n",
    "- Ex: `even_sum.py` that we created during lecture.\n",
    "\n",
    "*You will create your OWN module for this homework and use that we made during class.*\n",
    "\n",
    "### Package\n",
    "A **package** is a group of modules, organized like a directory. \n",
    "- A package requires a special `__init__.py` file to tell Python that the ENTIRE directory is something you would like to import.\n",
    "- Packages can contain sub-pacakges\n",
    "- Ex: `BAGLE_Microlensing` is an example of a package (if you are in Dex's group, this should be familar to you). Or you could think of `paarti` if you are in Brianna's group.\n",
    "\n",
    "*You will NOT be working with a package for this homework.*\n",
    "\n",
    "### Library\n",
    "A **library** is a much broader term that also refers to a collection of modules (like a package) but a library can also contain mulitple packages. \n",
    "- Libraries serve a much wider range of functionality for\n",
    "- Programmers use packages to have ready-to-go tools that can be used for data manipulation, web development, machine learning or simulations.\n",
    "- Ex: `numpy` is a very common library. Later in this course we will also be working some of the following libraries `matplotlib`, `scipy`, and `astropy`, `pandas`, etc\n",
    "\n",
    "*You WILL be working with the extensive numpy library for this homework!*\n",
    "\n",
    "--------------------------------------------------------------"
   ]
  },
  {
   "cell_type": "markdown",
   "id": "8dc7e46b-1e8e-486c-a2e9-d615c687028b",
   "metadata": {},
   "source": [
    "# 1 NumPy\n",
    "**NumPy** (aka Numerical Python) is a library that was designed for caring out computations in Python. \n",
    "\n",
    "We did not have a ton of time to work through examples during class, so I will ask that you check out this website for more information: https://numpy.org/doc/ \n",
    "\n",
    "Before we can work through any problems, you need to call the following in your notebook:"
   ]
  },
  {
   "cell_type": "code",
   "execution_count": 53,
   "id": "08dabd73-3dbc-4aab-843a-d4b81102835d",
   "metadata": {},
   "outputs": [],
   "source": [
    "import numpy as np"
   ]
  },
  {
   "cell_type": "markdown",
   "id": "92c77920-20fc-455e-bf52-10b5a518ed2d",
   "metadata": {},
   "source": [
    "## 1.1 Lists vs. Arrays\n",
    "*When I first started working with NumPy I didn't understand what was so special about arrays. This homework problem should help illustrate the difference. Make sure to follow each step and follow good coding practices.*\n",
    "\n",
    "1) Make a list called `my_list` and make an array called `my_arr` with the same values. There is an example below, but don't copy mine! Ex:\n",
    "```\n",
    "my_list = [11, 12, 13, 14, 15]\n",
    "my_arr = np.array([11, 12, 13, 14, 15])\n",
    "```\n",
    "*Notice that to use the `numpy` package we had to call its short cut `np` and then call upon its funciton `.array()`. This is similar to working with a built-in python function like `.append()`.*"
   ]
  },
  {
   "cell_type": "code",
   "execution_count": 54,
   "id": "494f31ac-a231-4f65-b202-e85208d6bee4",
   "metadata": {},
   "outputs": [],
   "source": [
    "# Your code here\n",
    "my_list = [1, 2, 3, 4, 5]\n",
    "my_arr = np.array([1, 2, 3, 4, 5])"
   ]
  },
  {
   "cell_type": "markdown",
   "id": "861d42c4-411e-4ef9-b85c-68e1f61c4fcb",
   "metadata": {},
   "source": [
    "2) Multiply `my_list` by 4 and multiply `my_arr` by 4. Print the results. Describe what happens in a comment."
   ]
  },
  {
   "cell_type": "code",
   "execution_count": 55,
   "id": "79245f57-3a83-4300-96d2-ea7a9035d3eb",
   "metadata": {},
   "outputs": [
    {
     "name": "stdout",
     "output_type": "stream",
     "text": [
      "my_list multiplied by 4 [1, 2, 3, 4, 5, 1, 2, 3, 4, 5, 1, 2, 3, 4, 5, 1, 2, 3, 4, 5]\n",
      "my_arr multiplied by 4 [ 4  8 12 16 20]\n"
     ]
    }
   ],
   "source": [
    "# Your code here\n",
    "result_1 = my_list * 4  # Creates result, allowing me to multiply my_list by 4\n",
    "result_2 = my_arr * 4 # Creates result, allowing me to multiply my_arr by 4\n",
    "\n",
    "print(\"my_list multiplied by 4\", result_1)  # Multiplying my_list by 4 writes the list out 4 times\n",
    "print(\"my_arr multiplied by 4\", result_2)  # Multiplying my_arr by 4 multiplies each integer by 4"
   ]
  },
  {
   "cell_type": "markdown",
   "id": "aa2dc2fb-7a26-42e8-90db-18d1598f4d7c",
   "metadata": {},
   "source": [
    "3) Add `my_list` with `my_list`. Add `my_arr` with `my_arr`. Add `my_list` with `my_arr`. Print the results. Describe what happens in a comment."
   ]
  },
  {
   "cell_type": "code",
   "execution_count": 56,
   "id": "9f18f22e-3137-4aa9-b623-6d2c0caec4c3",
   "metadata": {},
   "outputs": [
    {
     "name": "stdout",
     "output_type": "stream",
     "text": [
      "my_list plus my_list [1, 2, 3, 4, 5, 1, 2, 3, 4, 5]\n",
      "my_arr plus my_arr [ 2  4  6  8 10]\n",
      "my_list plus my_arr [ 2  4  6  8 10]\n"
     ]
    }
   ],
   "source": [
    "# Your code here\n",
    "result_3 = my_list + my_list  # Creates result, allowing me to add my_list to itself\n",
    "result_4 = my_arr + my_arr # Creates result, allowing me to add my_arr to itself\n",
    "result_5 = my_list + my_arr  # Creates result, allowing me to add my_list to my_arr\n",
    "\n",
    "print(\"my_list plus my_list\", result_3)  # Adding my_list to itself writes the list out 2 times\n",
    "print(\"my_arr plus my_arr\", result_4)  # Adding my_arr to itself adds each integer to itself\n",
    "print(\"my_list plus my_arr\", result_5)  # Adding my_list to my_arr adds each integer to itself"
   ]
  },
  {
   "cell_type": "markdown",
   "id": "3be18720-756f-43d1-bad7-bd85e138ef7e",
   "metadata": {},
   "source": [
    "4) Subtract `my_list` with `my_list`. Subtract `my_arr` with `my_arr`. Subtract `my_list` with `my_arr`. Print the results. Describe what happens in a comment."
   ]
  },
  {
   "cell_type": "code",
   "execution_count": 57,
   "id": "131b09c8-d352-4566-b710-31316483ae89",
   "metadata": {},
   "outputs": [
    {
     "name": "stdout",
     "output_type": "stream",
     "text": [
      "my_list minus my_list: [0 0 0 0 0]\n",
      "my_arr minus my_arr: [0 0 0 0 0]\n",
      "my_list minus my_arr: [0 0 0 0 0]\n"
     ]
    }
   ],
   "source": [
    "# Your code here\n",
    "my_list = np.array([1, 2, 3, 4, 5])  # Convert my_list to an np.array in order to subtract\n",
    "\n",
    "result_6 = my_list - my_list  # Subtract my_list by my_list\n",
    "result_7 = my_arr - my_arr  # Subtract my_arr by my_arr\n",
    "result_8 = my_list - my_arr  # Subtract my_list by my_arr\n",
    "\n",
    "print(\"my_list minus my_list:\", result_6) # Subtracting my_list by itself subtracts all the integers by itself\n",
    "print(\"my_arr minus my_arr:\", result_7)  # Subtracting my_arr by itself subtracts all the integers by itself\n",
    "print(\"my_list minus my_arr:\", result_8)  # Subtracting my_list by my_arr subtracts all the integers by itself"
   ]
  },
  {
   "cell_type": "markdown",
   "id": "9089eff6-4251-4a52-b263-c77b11343ece",
   "metadata": {},
   "source": [
    "5) Multiply `my_list` with `my_list`. Multply `my_arr` with `my_arr`. Multiply `my_list` with `my_arr`. Print the results. Describe what happens in a comment."
   ]
  },
  {
   "cell_type": "code",
   "execution_count": 58,
   "id": "cae7749f-cc6e-45d6-9e07-72aa2cefc0b6",
   "metadata": {},
   "outputs": [
    {
     "name": "stdout",
     "output_type": "stream",
     "text": [
      "my_list multiplied by my_list: [ 1  4  9 16 25]\n",
      "my_arr multiplied by my_arr: [ 1  4  9 16 25]\n",
      "my_list multiplied by my_arr: [ 1  4  9 16 25]\n"
     ]
    }
   ],
   "source": [
    "# Your code here\n",
    "result_8 = my_list * my_list  # Multiply my_list by my_list\n",
    "result_9 = my_arr * my_arr  # Multiply my_arr by my_arr\n",
    "result_10 = my_list * my_arr  # Multiply my_list by my_arr\n",
    "\n",
    "print(\"my_list multiplied by my_list:\", result_8) # Multiplying my_list by itself multiplies all the integers by itself\n",
    "print(\"my_arr multiplied by my_arr:\", result_9)  # Multiplying my_arr by itself multiplies all the integers by itself\n",
    "print(\"my_list multiplied by my_arr:\", result_10)  # Multiplying my_list by my_arr multiplies all the integers by itself"
   ]
  },
  {
   "cell_type": "markdown",
   "id": "55175f6e-e6b2-41b1-8015-5f1b099664e8",
   "metadata": {},
   "source": [
    "7) Divide `my_list` with `my_list`. Divide `my_arr` with `my_arr`. Divide `my_list` with `my_arr`. Print the results. Describe what happens in a comment."
   ]
  },
  {
   "cell_type": "code",
   "execution_count": 59,
   "id": "ccdc8e13-ec41-4b79-8034-0934c012580e",
   "metadata": {},
   "outputs": [
    {
     "name": "stdout",
     "output_type": "stream",
     "text": [
      "my_list divided by my_list: [1. 1. 1. 1. 1.]\n",
      "my_arr divided by my_arr: [1. 1. 1. 1. 1.]\n",
      "my_list divided by my_arr: [1. 1. 1. 1. 1.]\n"
     ]
    }
   ],
   "source": [
    "# Your code here\n",
    "result_11 = my_list / my_list  # Dividing my_list by my_list\n",
    "result_12 = my_arr / my_arr  # Dividing my_arr by my_arr\n",
    "result_13 = my_list / my_arr  # Dividing my_list by my_arr\n",
    "\n",
    "print(\"my_list divided by my_list:\", result_11) # Dividing my_list by itself divides all the integers by itself\n",
    "print(\"my_arr divided by my_arr:\", result_12)  # Dividing my_arr by itself divides all the integers by itself\n",
    "print(\"my_list divided by my_arr:\", result_13)  # Dividing my_list by my_arr divides all the integers by itself"
   ]
  },
  {
   "cell_type": "markdown",
   "id": "1fb261e6-b99b-4e36-953a-e899da010469",
   "metadata": {},
   "source": [
    "8) After working through this problem, in at least two sentences, describe the difference between a list and an array."
   ]
  },
  {
   "cell_type": "code",
   "execution_count": 60,
   "id": "d702ddad-c84d-43d5-9fe0-d10b9083bf85",
   "metadata": {},
   "outputs": [],
   "source": [
    "# A list can store a different collection of items, such as integers, floats, or strings. An array can only store integers, but allows you to compute operations/calculations."
   ]
  },
  {
   "cell_type": "markdown",
   "id": "fdbccced-d3f0-4948-be6e-471028979576",
   "metadata": {},
   "source": [
    "## 1.2 Nested List and Multi-Dimensional Arrays\n",
    "A **nested list** is when you have a list as an element for a list. Example:\n",
    "```\n",
    "nested_list = [[1, 2, 3], [4, 5, 6]]\n",
    "```\n",
    "\n",
    "A **multi-dimensional array** is essentially a nested list, but it contains the properties of a matrix. Example:\n",
    "```\n",
    "multi_d_array = np.array([[1, 2, 3], [4, 5, 6]])\n",
    "```\n",
    "\n",
    "Go to this website for more information on NumPy: https://www.w3schools.com/python/numpy/default.asp\n",
    "\n",
    "Write a **function** that takes in a two-dimensional array. Example:\n",
    "\n",
    "```\n",
    "arr3 = np.array([[2, 4, 6], [8, 10, 12], [14, 16, 18]])\n",
    "```\n",
    "\n",
    "and then returns the second value in each row. Example:\n",
    "\n",
    "```\n",
    "[4, 10, 16]\n",
    "```"
   ]
  },
  {
   "cell_type": "code",
   "execution_count": 61,
   "id": "e6d45993-2390-4e2d-bb6e-930919dd7d46",
   "metadata": {},
   "outputs": [
    {
     "name": "stdout",
     "output_type": "stream",
     "text": [
      "second value in each array: [2 5 8]\n"
     ]
    }
   ],
   "source": [
    "# Your code here\n",
    "\n",
    "arr = np.array([[1, 2, 3], [4, 5, 6], [7, 8, 9]])  # Two-dimensional array\n",
    "\n",
    "print(\"second value in each array:\", arr[:, 1])  # Print the 2nd value in each list"
   ]
  },
  {
   "cell_type": "markdown",
   "id": "e5c0700d-def9-4afe-86f5-0a4b8862c0b4",
   "metadata": {},
   "source": [
    "In 2-3 sentences, describe what section of the website helped you write your function. "
   ]
  },
  {
   "cell_type": "code",
   "execution_count": 62,
   "id": "179c2c8d-3493-40a5-931f-7a92be8551a6",
   "metadata": {},
   "outputs": [],
   "source": [
    "# The section of the website that helped my write the function is NumPy Array Indexing. I used the negative indexing section, which set up the format and showed how to select the end of the an array. I used this to apply the function to select the second value in each row."
   ]
  },
  {
   "cell_type": "markdown",
   "id": "2bee5ead-232c-495c-8e42-1721bd315957",
   "metadata": {},
   "source": [
    "How would you take a nested list and return the second value in each row? Explain in 2-3 sentences and show an example."
   ]
  },
  {
   "cell_type": "code",
   "execution_count": 63,
   "id": "8c64b6c1-e839-4929-8507-1aebee70ae87",
   "metadata": {},
   "outputs": [
    {
     "name": "stdout",
     "output_type": "stream",
     "text": [
      "second values in each list: [2, 5, 8]\n"
     ]
    }
   ],
   "source": [
    "# To take nestled list and return the second value in each row, you would create a nestled list (defined as neslted_list). Then, create a function the outputs the second value of each list (defined as second_value). Then, you print these values.\n",
    "\n",
    "nested_list = [[1, 2, 3], [4, 5, 6], [7, 8, 9]]  # Using the same values as the multi-dim array from above\n",
    "second_value = [row[1] for row in nested_list]\n",
    "\n",
    "print(\"second values in each list:\", second_value)"
   ]
  },
  {
   "cell_type": "markdown",
   "id": "25eaeadc-b09d-4ca8-9849-822879abdad2",
   "metadata": {},
   "source": [
    "## 1.3 Up to You!\n",
    "With the website I just gave you: https://www.w3schools.com/python/numpy/default.asp\n",
    "\n",
    "I recommend working through the examples they provide (you don't have to do all of them, but a few would be good). It will help you build an intuition for numpy. It won't take very long, there are only a couple of examples per section.\n",
    "\n",
    "Write you own **function** that follows the theme of one of the sections (i.e. array reshaping, array filter, random intro, etc). For example, if you are curious about the section \"**NumPy Creating Arrays**\" you could write a function that creates a multi-dimensional array.\n",
    "\n",
    "```\n",
    "\n",
    ">>> def make_multi_dimensional_array(one_d_array, dimensions):\n",
    "...     # Creates a multi-dimensional array\n",
    "...     # Your code here\n",
    "...     return # Your code here\n",
    "\n",
    ">>> my_one_d_array = [2, 4, 6, 8]\n",
    ">>> my_dimension = 10\n",
    ">>> ten_d_array = make_multi_dimensional_array(my_one_d_array, my_dimension)\n",
    ">>> print(ten_d_array)\n",
    "[[[[[[[[[[2 4 6 8]]]]]]]]]]\n",
    "\n",
    "```\n",
    "\n",
    "Your function should be more detailed than the example I gave you. Include at least one of the following: \n",
    "- a conditional statement\n",
    "- an assignment operator\n",
    "- a loop (`for` or `while`)\n",
    "- `if`, `elif`, `else`, statement"
   ]
  },
  {
   "cell_type": "code",
   "execution_count": 64,
   "id": "359f524a-30ee-446c-a6d6-a57faecf5bcb",
   "metadata": {},
   "outputs": [
    {
     "name": "stdout",
     "output_type": "stream",
     "text": [
      "[True, True, True, True, False, False, False]\n",
      "[80 79 78 77]\n"
     ]
    }
   ],
   "source": [
    "# Your code here\n",
    "\n",
    "arr1 = np.array([80, 79, 78, 77, 76, 75, 74])  # Creating and assigning values in my array\n",
    "\n",
    "filter_arr1 = []  # Blank array\n",
    "\n",
    "for element in arr1:  # Going through each element in the array\n",
    "  if element >= 77:  # if the element is higher than 77, set the value to True\n",
    "    filter_arr1.append(True)\n",
    "  else:  # Otherwise False\n",
    "    filter_arr1.append(False)\n",
    "\n",
    "newarr1 = arr1[filter_arr1]  # Creates a new array, using only the True values\n",
    "\n",
    "print(filter_arr1)\n",
    "print(newarr1)"
   ]
  },
  {
   "cell_type": "markdown",
   "id": "88df7c51-0196-42b5-aabf-5068bc6ad675",
   "metadata": {},
   "source": [
    "In the section you took inspiration from, show all of the examples below. Follow good coding practices and give at least two test cases for each example. Don't forget comments! \\\n",
    "\\\n",
    "*For my example, I took inspiration from **NumPy Creating Arrays** so I would show following examples with DIFFERENT test cases: Create a NumPy ndarray Object, Dimensions in Arrays ,0-D Arrays, 1-D Arrays, 2-D Arrays, 3-D Arrays, Check Number of Dimensions, Higher Dimensional Arrays.*"
   ]
  },
  {
   "cell_type": "code",
   "execution_count": 65,
   "id": "193b91b8-de1d-4aee-af90-6a0e10930b55",
   "metadata": {},
   "outputs": [
    {
     "name": "stdout",
     "output_type": "stream",
     "text": [
      "[1 3]\n",
      "[False, False, False, True]\n",
      "[4]\n",
      "[False, True, False, True]\n",
      "[2 4]\n",
      "[False  True False  True]\n",
      "[2 4]\n"
     ]
    }
   ],
   "source": [
    "# Your code here\n",
    "\n",
    "# Example 1: Create an array from the elements on index 0 and 2\n",
    "arr2 = np.array([1, 2, 3, 4])\n",
    "\n",
    "x = [True, False, True, False]\n",
    "\n",
    "newarr2 = arr2[x]\n",
    "\n",
    "print(newarr2)\n",
    "\n",
    "# Example 2: Create a filter array that will return only values higher than 42\n",
    "arr3 = np.array([1, 2, 3, 4])\n",
    "filter_arr3 = []\n",
    "\n",
    "for element in arr3:\n",
    "  if element > 3:\n",
    "    filter_arr3.append(True)\n",
    "  else:\n",
    "    filter_arr3.append(False)\n",
    "\n",
    "newarr3 = arr3[filter_arr3]\n",
    "\n",
    "print(filter_arr3)\n",
    "print(newarr3)\n",
    "\n",
    "# Example 3: Create a filter array that will return only even elements from the original array\n",
    "arr4 = np.array([1, 2, 3, 4])\n",
    "\n",
    "filter_arr4 = []\n",
    "\n",
    "for element in arr4:\n",
    "  if element % 2 == 0:\n",
    "    filter_arr4.append(True)\n",
    "  else:\n",
    "    filter_arr4.append(False)\n",
    "\n",
    "newarr4 = arr4[filter_arr4]\n",
    "\n",
    "print(filter_arr4)\n",
    "print(newarr4)\n",
    "\n",
    "# Example 4: Create a filter array that will return only even elements from the original array\n",
    "arr5 = np.array([1, 2, 3, 4])\n",
    "\n",
    "filter_arr5 = arr5 % 2 == 0\n",
    "\n",
    "newarr5 = arr5[filter_arr5]\n",
    "\n",
    "print(filter_arr5)\n",
    "print(newarr5)"
   ]
  },
  {
   "cell_type": "markdown",
   "id": "c90148dc-cac4-4322-86ff-5b112bae306f",
   "metadata": {},
   "source": [
    "In 2-3 sentences, describe how your function took inspiration from a section.\\\n",
    "\\\n",
    "*For my example, `make_multi_dimensional_array`, I would talk about the **NumPy Creating Arrays** section and how I took inspiration from the example **Higher Dimensional Arrays**.*"
   ]
  },
  {
   "cell_type": "code",
   "execution_count": 66,
   "id": "fe11ac2d-dcdb-4e51-9460-c3cc1be48bef",
   "metadata": {},
   "outputs": [],
   "source": [
    "# My fucntion follows example 2, which only returns the values that are greater than x. It does this by assigning True to values greater than or equal to x (77 in my function) and False to values under x. Then, it creates a new list with only the true values of x, which in my function is 77, 78, 79, and 80."
   ]
  },
  {
   "cell_type": "markdown",
   "id": "8a834fd4-ef1b-4464-a07a-76e08a1c81c8",
   "metadata": {},
   "source": [
    "# 2 Brianna's Module\n",
    "During lecture we created and worked with a module called `even_sum.py`. Import that module here. "
   ]
  },
  {
   "cell_type": "code",
   "execution_count": 67,
   "id": "66e2a829-e478-4c97-8412-846cd93161f8",
   "metadata": {},
   "outputs": [],
   "source": [
    "# Your code here\n",
    "import even_sum as es"
   ]
  },
  {
   "cell_type": "markdown",
   "id": "210ee2c2-9b81-4ea4-bbe7-2d1fa94d646e",
   "metadata": {},
   "source": [
    "Now that you have imported the module. Call the module and the first function with your own list of numbers. "
   ]
  },
  {
   "cell_type": "code",
   "execution_count": 68,
   "id": "89ad196d-5948-4e20-899a-d31eebdc4f2a",
   "metadata": {},
   "outputs": [
    {
     "data": {
      "text/plain": [
       "80"
      ]
     },
     "execution_count": 68,
     "metadata": {},
     "output_type": "execute_result"
    }
   ],
   "source": [
    "# Your code here\n",
    "list_1 = [8, 13, 19, 26]\n",
    "list_2 = [45, 81, 32, 14]\n",
    "\n",
    "es.sum_even_numbers(list_1 + list_2)"
   ]
  },
  {
   "cell_type": "markdown",
   "id": "110d3cb8-b809-467b-9447-57810e4e3853",
   "metadata": {},
   "source": [
    "I have provided you a separate module called `example.py`. Import that module here."
   ]
  },
  {
   "cell_type": "code",
   "execution_count": 69,
   "id": "092eb2b9-dd15-4fdf-a7a2-ad32cd22ed88",
   "metadata": {},
   "outputs": [],
   "source": [
    "# Your code here\n",
    "\n",
    "import example"
   ]
  },
  {
   "cell_type": "markdown",
   "id": "a6922f89-01e7-41af-82e2-4236daa103b1",
   "metadata": {},
   "source": [
    "With the following variables, use my module to show which of the rocket's escape!"
   ]
  },
  {
   "cell_type": "code",
   "execution_count": 70,
   "id": "6b2e8b39-8441-469a-a128-19b04b8c8a2f",
   "metadata": {},
   "outputs": [],
   "source": [
    "rocket_velocities = np.array([\n",
    "    [1000, 5000, 8000, 12000],  # Rocket 1's velocity at different times\n",
    "    [2000, 6000, 9000, 10000],  # Rocket 2\n",
    "    [3000, 3100, 3200, 3300]    # Rocket 3\n",
    "])\n",
    "\n",
    "mass_of_planet = 5.972e24 # kilograms\n",
    "radius_of_planet = 6.371e6 # meters"
   ]
  },
  {
   "cell_type": "code",
   "execution_count": 71,
   "id": "05196d65-9e31-4cec-ad01-9f9cebe00046",
   "metadata": {},
   "outputs": [
    {
     "name": "stdout",
     "output_type": "stream",
     "text": [
      "Rocket 1: Rocket left the planet!\n",
      "Rocket 2: Rocket is orbiting around the planet.\n",
      "Rocket 3: Rocket crashes back into the planet!\n"
     ]
    }
   ],
   "source": [
    "# Your code here\n",
    "statuses = example.rocket_launch(rocket_velocities, mass_of_planet, radius_of_planet)\n",
    "\n",
    "for i, status in enumerate(statuses, start=1):\n",
    "    print(f\"Rocket {i}: {status}\")"
   ]
  },
  {
   "cell_type": "markdown",
   "id": "9ab3de38-dbd9-438f-a587-67e8777c9c93",
   "metadata": {},
   "source": [
    "In 2-3 sentences describe how this code follows \"good coding practices\" and where there is room for improvement."
   ]
  },
  {
   "cell_type": "code",
   "execution_count": 72,
   "id": "94d49892-e1c0-4e6a-b05d-f9ddf3de4b44",
   "metadata": {},
   "outputs": [],
   "source": [
    "# This follows good coding practices by defining each variable, function, and inputs/outputs. But, it is very \"spread out\" because part of the code is in example.py and then you call upon it in jupyter notebook. So, it is slightly harder to keep track of what is what."
   ]
  },
  {
   "cell_type": "markdown",
   "id": "2dce5617-a86a-4327-aa99-f29548f3b92c",
   "metadata": {},
   "source": [
    "# 3 Your Turn!\n",
    "Now its your turn to make a module! Choose a topic from a class (could be physics, computer science, nuclear engineering, biology, astronomy, math, or an topic that interests you!) and build a module around it! Look at my module called `example.py` and base your structure around it. Your module NEEDS to include the following.\n",
    "\n",
    "Overall:\n",
    "1) Your module needs to use at least one NumPy function: https://numpy.org/devdocs/reference/routines.math.html\n",
    "2) Your module needs to contain a multi-dimensional array: https://numpy.org/devdocs/reference/arrays.ndarray.html \n",
    "3) Your module needs **at least** three functions that follow good coding practices.\n",
    "4) Inside your function, include comments. Don't forget to describe what the function is doing and what the inputs and outputs are.\n",
    "5) Your module needs either a `for` loop or `while` loop.\n",
    "6) Your module needs an `if`, `elif`, and `else` statement.\n",
    "7) Your module needs at least two assignment variables (`+=`, `*=`, etc).\n",
    "8) Creativity. *If it looks like you plugged this whole thing into ChatGPT, I will take off points. You can use ChatGPT to help you code, but you can't use it to just do your homework for you. That's no fun :(*\n",
    "\n",
    "In 2-3 sentences, describe the topic of your module and its capabilities. "
   ]
  },
  {
   "cell_type": "code",
   "execution_count": 73,
   "id": "0db7310e-b286-4ce7-aa0b-c211e243b7d6",
   "metadata": {},
   "outputs": [],
   "source": [
    "# My module's topic is math. The goal of it is to take a multi-dimensional array, sort through the values, print a list, add the values up from the list, and then perform the quadratic formula using the values."
   ]
  },
  {
   "cell_type": "markdown",
   "id": "f9ec7fbd-1d6d-4c08-8528-e9cdaa7e3f6b",
   "metadata": {},
   "source": [
    "In 2-3 sentences, answer the following. What was the most challenging part of building this module? What did you learn in the process that you can apply to future coding assignments?"
   ]
  },
  {
   "cell_type": "code",
   "execution_count": 74,
   "id": "19898c20-2adb-4011-b95e-1da864f7801a",
   "metadata": {},
   "outputs": [],
   "source": [
    "# For me, the most challenging part was making mistakes in the module. I spent so much time going back and forth, trying to fix the problems in olivia_module so that it worked in this jupyter notebook."
   ]
  },
  {
   "cell_type": "markdown",
   "id": "85e943ab-1036-46bc-b9fb-da4ab1890816",
   "metadata": {},
   "source": [
    "Once your module is complete, import it here."
   ]
  },
  {
   "cell_type": "code",
   "execution_count": 75,
   "id": "fb9821b1-3cc0-4999-97eb-441571bbd5e1",
   "metadata": {},
   "outputs": [
    {
     "data": {
      "text/plain": [
       "<module 'olivia_module' from '/Users/oliviawagner/ulab_2024/homework7/olivia_module.py'>"
      ]
     },
     "execution_count": 75,
     "metadata": {},
     "output_type": "execute_result"
    }
   ],
   "source": [
    "# Your code here\n",
    "import olivia_module\n",
    "\n",
    "import importlib\n",
    "importlib.reload(olivia_module)"
   ]
  },
  {
   "cell_type": "markdown",
   "id": "ac42ebd4-e51b-4be4-aaa7-6c7d550abd30",
   "metadata": {},
   "source": [
    "Call each of your functions in the cell below. Make sure to show the outputs! "
   ]
  },
  {
   "cell_type": "code",
   "execution_count": 76,
   "id": "b63d3d1f-64bd-4dc7-b20f-c562d09c7c92",
   "metadata": {},
   "outputs": [
    {
     "name": "stdout",
     "output_type": "stream",
     "text": [
      "The selected numbers for the array: [1, 2, 3, 2, 1]\n",
      "A, the sum of even numbers: 4\n",
      "B, the sum of all numbers: 9\n",
      "C, the sum of odd numbers: 5\n",
      "Roots of the quadratic equation: (-1.0625, -1.1875)\n"
     ]
    }
   ],
   "source": [
    "# Your code here\n",
    "import numpy as np\n",
    "\n",
    "arr = np.array([[1, 2, 4,], [3, 2, 5], [5, 1, 4]])  # My array for the module\n",
    "\n",
    "print(f\"The selected numbers for the array:\", selected_numbers) # The selected values from the array that are less than or equal to 3\n",
    "\n",
    "selected_numbers = olivia_module.number_selection(arr)  # Takes the selected numbers (from above) and allows them to be added, to produce a, b, c\n",
    "a, b, c = olivia_module.sum_numbers(selected_numbers)\n",
    "print(f\"A, the sum of even numbers:\", a)  # Sum of only even numbers\n",
    "print(f\"B, the sum of all numbers:\", b)  # Sum of all numbers\n",
    "print(f\"C, the sum of odd numbers:\", c)  # Sum of only odd numbers\n",
    "\n",
    "roots = olivia_module.quadratic_roots(a, b, c)  # Uses the values from above to find the roots of the quadratic equation 4x^2+9x+5\n",
    "print(f\"Roots of the quadratic equation:\", roots)  # Roots"
   ]
  },
  {
   "cell_type": "markdown",
   "id": "8cf33b19-9bca-484e-8129-d8a4896a1bfa",
   "metadata": {},
   "source": [
    "# 4 Proper Submission\n",
    "To recieve full credit for this assignment make sure you do the following:\n",
    "\n",
    "1) Copy this homework assignment from the `ulab_2024` repository into **YOUR** local `homework7` branch. It will contain this notebook and an additional file called `example.py`. \n",
    "   \n",
    "2) Follow the tasks. Make sure to run all the cells so that **all** output is visible. You will get points taken off if your ouputs are not shown!\n",
    "\n",
    "3) Add/commit/push this notebook and **ANY** modules (so you should have `example.py` and your module) used in this homework assignment to your remote `homework7` branch. Make sure to have NOTHING else in your branch (i.e. no previous homeworks or lecture notes).\n",
    "\n",
    "4) Do the following:\n",
    "- Take a screenshot of moving **into or out** of your `homework7` brach, call it `hw7_branch`.\n",
    "- Take a screenshot of calling `ls` in your `homework7` branch, it should only contain items relevent to homework 7, call it `hw7_ls`.\n",
    "- Take a screenshot of adding this assignment to your local `homework7` branch, call it `hw7_add`.\n",
    "- Take a screenshot of committing this assignment to your local `homework7` branch, call it `hw7_commit`.\n",
    "- Take a screenshot of pushing this assignment to your remote `homework7` branch, call it `hw7_push`. \n",
    "\n",
    "6) Include these screenshots in your `homework7` branch. Upload your `homework7` branch to Gradescope!"
   ]
  }
 ],
 "metadata": {
  "kernelspec": {
   "display_name": "Python 3 (ipykernel)",
   "language": "python",
   "name": "python3"
  },
  "language_info": {
   "codemirror_mode": {
    "name": "ipython",
    "version": 3
   },
   "file_extension": ".py",
   "mimetype": "text/x-python",
   "name": "python",
   "nbconvert_exporter": "python",
   "pygments_lexer": "ipython3",
   "version": "3.12.4"
  }
 },
 "nbformat": 4,
 "nbformat_minor": 5
}
