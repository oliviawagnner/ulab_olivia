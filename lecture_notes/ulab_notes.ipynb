{
 "cells": [
  {
   "cell_type": "code",
   "execution_count": 4,
   "id": "e3fe5a2b-80c8-4856-9aa2-4ec2b9d6051e",
   "metadata": {},
   "outputs": [],
   "source": [
    "# October 21, 2024 Notes\n",
    "# Finding the Average of 3 Numbers\n",
    "def avg(num_1, num_2, num_3):\n",
    "    # Returns the average of 3 numbers\n",
    "    average = (num_1 + num_2 + num_3) / 3\n",
    "    return average"
   ]
  },
  {
   "cell_type": "code",
   "execution_count": 5,
   "id": "52ca5037-f0ed-427c-8e3f-c6585a337611",
   "metadata": {},
   "outputs": [
    {
     "data": {
      "text/plain": [
       "2.0"
      ]
     },
     "execution_count": 5,
     "metadata": {},
     "output_type": "execute_result"
    }
   ],
   "source": [
    "avg(1, 2, 3)"
   ]
  },
  {
   "cell_type": "code",
   "execution_count": 6,
   "id": "070a8aad-c517-452e-81e1-b83dde8f56d7",
   "metadata": {},
   "outputs": [
    {
     "data": {
      "text/plain": [
       "20.0"
      ]
     },
     "execution_count": 6,
     "metadata": {},
     "output_type": "execute_result"
    }
   ],
   "source": [
    "avg(10, 20, 30)"
   ]
  },
  {
   "cell_type": "code",
   "execution_count": 7,
   "id": "e486b9ca-8438-4933-800c-b51ad0e3107c",
   "metadata": {},
   "outputs": [
    {
     "name": "stdout",
     "output_type": "stream",
     "text": [
      "[10, 20, 30, 40, 50]\n"
     ]
    }
   ],
   "source": [
    "# Introduction to Lists\n",
    "# Creating a List\n",
    "my_list = [10, 20, 30, 40, 50]\n",
    "print(my_list)"
   ]
  },
  {
   "cell_type": "code",
   "execution_count": 9,
   "id": "f823a143-f1f6-466f-898a-56a9f39ea3e2",
   "metadata": {},
   "outputs": [
    {
     "name": "stdout",
     "output_type": "stream",
     "text": [
      "[10, 20, 30, 40, 50]\n",
      "10\n",
      "40\n"
     ]
    }
   ],
   "source": [
    "# Accessing elements by their index\n",
    "print(my_list)\n",
    "print(my_list[0])\n",
    "print(my_list[3])"
   ]
  },
  {
   "cell_type": "code",
   "execution_count": 11,
   "id": "f8978132-d424-451f-ad19-651aa181f854",
   "metadata": {},
   "outputs": [
    {
     "name": "stdout",
     "output_type": "stream",
     "text": [
      "[10, 20, 30, 40, 50]\n",
      "[10, 20, 30]\n",
      "[20, 30, 40]\n"
     ]
    }
   ],
   "source": [
    "# Slice a List (extract a part of the list)\n",
    "# [start:stop]\n",
    "print(my_list)\n",
    "print(my_list[0:3])\n",
    "print(my_list[1:4])"
   ]
  },
  {
   "cell_type": "code",
   "execution_count": 12,
   "id": "f7c67eff-8237-417c-b847-d6c521495e95",
   "metadata": {},
   "outputs": [
    {
     "name": "stdout",
     "output_type": "stream",
     "text": [
      "[10, 20, 30, 40, 50]\n",
      "50\n"
     ]
    }
   ],
   "source": [
    "# Negative Index\n",
    "print(my_list)\n",
    "print(my_list[-1])"
   ]
  },
  {
   "cell_type": "code",
   "execution_count": 14,
   "id": "40386190-e96a-4c65-a3f6-c64cceb384f1",
   "metadata": {},
   "outputs": [
    {
     "name": "stdout",
     "output_type": "stream",
     "text": [
      "[10, 20, 35, 40, 50]\n",
      "[10, 20, 35, 40, 50]\n"
     ]
    }
   ],
   "source": [
    "# Modify an Element in a List\n",
    "print(my_list)\n",
    "my_list[2] = 35\n",
    "print(my_list)"
   ]
  },
  {
   "cell_type": "code",
   "execution_count": 17,
   "id": "68ec2719-f44b-4f05-8b78-ca8d614a3ff8",
   "metadata": {},
   "outputs": [
    {
     "name": "stdout",
     "output_type": "stream",
     "text": [
      "[10, 20, 35, 40, 50, 60]\n",
      "[10, 20, 35, 40, 50, 60, 60]\n"
     ]
    }
   ],
   "source": [
    "# Appending Elements\n",
    "print(my_list)\n",
    "my_list.append(60)\n",
    "print(my_list)"
   ]
  },
  {
   "cell_type": "code",
   "execution_count": 23,
   "id": "55fd1360-4285-4426-b578-a9501c521110",
   "metadata": {},
   "outputs": [
    {
     "name": "stdout",
     "output_type": "stream",
     "text": [
      "[10, 35, 50, 60, 60]\n",
      "[10, 35, 50, 60]\n"
     ]
    }
   ],
   "source": [
    "# Removing Elements\n",
    "print(my_list)\n",
    "my_list.remove(60)\n",
    "print(my_list)"
   ]
  },
  {
   "cell_type": "code",
   "execution_count": 25,
   "id": "c0ada7f8-d1b1-4eaf-a041-f57ee4ffa3ca",
   "metadata": {},
   "outputs": [
    {
     "name": "stdout",
     "output_type": "stream",
     "text": [
      "[10, 35, 50, 60]\n",
      "[10, 50]\n"
     ]
    }
   ],
   "source": [
    "# List Slicing and Striding\n",
    "# Slicing with a Step (Stride)\n",
    "# [start;stop;step]\n",
    "print(my_list)\n",
    "print(my_list[::2])"
   ]
  },
  {
   "cell_type": "code",
   "execution_count": 26,
   "id": "15e4eb7b-cc66-4467-9eab-b787f373e375",
   "metadata": {},
   "outputs": [
    {
     "name": "stdout",
     "output_type": "stream",
     "text": [
      "[10, 35, 50, 60]\n",
      "[60, 50, 35, 10]\n"
     ]
    }
   ],
   "source": [
    "#Slice in Reverse\n",
    "print(my_list)\n",
    "print(my_list[::-1])"
   ]
  },
  {
   "cell_type": "code",
   "execution_count": 31,
   "id": "eb89613e-b89b-4871-84a4-8fecd6441bdf",
   "metadata": {},
   "outputs": [
    {
     "name": "stdout",
     "output_type": "stream",
     "text": [
      "[10, 35, 50, 60, 40, 40]\n",
      "[10, 35, 50, 60, 40, 40, 40]\n",
      "10\n",
      "35\n",
      "50\n",
      "60\n",
      "40\n",
      "40\n",
      "40\n"
     ]
    }
   ],
   "source": [
    "# For Loop\n",
    "# Use a for loop to iterate over a list\n",
    "print(my_list)\n",
    "my_list.append(40)\n",
    "print(my_list)\n",
    "for apple in my_list:\n",
    "    print(apple)"
   ]
  },
  {
   "cell_type": "code",
   "execution_count": 35,
   "id": "3bb35931-faf5-4940-8af6-78a7da995cf6",
   "metadata": {},
   "outputs": [
    {
     "name": "stdout",
     "output_type": "stream",
     "text": [
      "0 10\n",
      "1 35\n",
      "2 50\n",
      "3 60\n",
      "4 40\n",
      "5 40\n",
      "6 40\n"
     ]
    }
   ],
   "source": [
    "# Range Function to Loop through Indices\n",
    "for i in range(len(my_list)):\n",
    "    print(i, my_list[i])"
   ]
  },
  {
   "cell_type": "code",
   "execution_count": 37,
   "id": "6e9dad85-8ead-41ab-a73d-7286216f3571",
   "metadata": {},
   "outputs": [
    {
     "name": "stdout",
     "output_type": "stream",
     "text": [
      "X is less than 10\n"
     ]
    }
   ],
   "source": [
    "# Conditionals (if, elif, else)\n",
    "# if-else statement\n",
    "x = 5\n",
    "if x > 10:\n",
    "    print(\"x is greater than 10\")\n",
    "else: print (\"X is less than 10\")"
   ]
  },
  {
   "cell_type": "code",
   "execution_count": 38,
   "id": "89634d97-8012-4aab-a92b-d3d7a175a6a2",
   "metadata": {},
   "outputs": [
    {
     "name": "stdout",
     "output_type": "stream",
     "text": [
      "[10, 35, 50, 60, 40, 40, 40]\n",
      "10 is less than 40\n",
      "35 is less than 40\n",
      "50 is greater than 40\n",
      "60 is greater than 40\n",
      "40 is equal to 40\n",
      "40 is equal to 40\n",
      "40 is equal to 40\n"
     ]
    }
   ],
   "source": [
    "# Condiitonal Inside of a Loop\n",
    "print(my_list)\n",
    "for element in my_list:\n",
    "    if element > 40:\n",
    "        print (f\"{element} is greater than 40\")\n",
    "    elif element == 40:\n",
    "        print (f\"{element} is equal to 40\")\n",
    "    else:\n",
    "        print (f\"{element} is less than 40\")"
   ]
  },
  {
   "cell_type": "code",
   "execution_count": 41,
   "id": "534f99a3-f228-4585-9de3-9527aa1ac1d3",
   "metadata": {},
   "outputs": [
    {
     "name": "stdout",
     "output_type": "stream",
     "text": [
      "count: 0\n",
      "count: 1\n",
      "count: 2\n",
      "count: 3\n",
      "count: 4\n"
     ]
    }
   ],
   "source": [
    "# While Loops\n",
    "# While Loops Example\n",
    "count = 0\n",
    "while count < 5:\n",
    "    print (\"count:\", count)\n",
    "    count += 1"
   ]
  },
  {
   "cell_type": "code",
   "execution_count": 43,
   "id": "47c3f94b-46ea-46b8-8e20-2628a33ddbc5",
   "metadata": {},
   "outputs": [
    {
     "name": "stdout",
     "output_type": "stream",
     "text": [
      "[10, 35, 50, 60, 40, 40, 40]\n",
      "Found 60 at index 3\n"
     ]
    }
   ],
   "source": [
    "# Combining Loops and Conditionals \n",
    "# Using While Loop with Conditionals to find a number in a list\n",
    "print(my_list)\n",
    "\n",
    "target = 60\n",
    "found = False\n",
    "i = 0\n",
    "while not found and i < len(my_list):\n",
    "    if my_list[i] == target:\n",
    "        print(f\"Found {target} at index {i}\")\n",
    "        found = True\n",
    "    i += 1"
   ]
  },
  {
   "cell_type": "code",
   "execution_count": null,
   "id": "14395df4-7629-4c02-a709-46f6ad34fe26",
   "metadata": {},
   "outputs": [],
   "source": []
  }
 ],
 "metadata": {
  "kernelspec": {
   "display_name": "Python 3 (ipykernel)",
   "language": "python",
   "name": "python3"
  },
  "language_info": {
   "codemirror_mode": {
    "name": "ipython",
    "version": 3
   },
   "file_extension": ".py",
   "mimetype": "text/x-python",
   "name": "python",
   "nbconvert_exporter": "python",
   "pygments_lexer": "ipython3",
   "version": "3.12.4"
  }
 },
 "nbformat": 4,
 "nbformat_minor": 5
}
