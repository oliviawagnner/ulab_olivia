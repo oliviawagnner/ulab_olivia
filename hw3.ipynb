{
 "cells": [
  {
   "cell_type": "code",
   "execution_count": null,
   "id": "8dc50244-8f4e-4d89-ab49-35274abde0d3",
   "metadata": {},
   "outputs": [],
   "source": [
    "# HW 3 - Jupyter Notebooks\n",
    "    ULAB - Physics and Astronomy Division\n",
    "    Due **Wednesday, October 9th, 2024 at 11:59pm** on Gradescope\n",
    "\n",
    "    MAKE SURE TO TAKE A SCREENSHOT OF PUSHING THIS ASSIGNMENT FROM YOUR LOCAL TO REMOTE REPOSITORY \n",
    "    OR YOU WILL RECIEVE A ** *ZERO* ** FOR THIS ASSIGNMENT!!\n",
    "    \n",
    "    # Welcome to Python!\\n\",\n",
    "    You made it! If you are looking at this Jupyter Notebook, it means you have completed **all** installations for this class! \n",
    "    We have one last topic to cover about **branching** next lecture, but everything Python related will be covered in these notebooks!\n",
    "\n",
    "    ## 1) What is a Jupyter Notebook?\n",
    "    To make coding easier, Jupyter notebooks are split into chunks called **cells**.\n",
    "    \n",
    "    There are **two** types of cells:\n",
    "        1) **Markdown Cells** - These cells contain plain text (like the cell you are reading right now)\n",
    "        2) **Code Cells** - These cells contain code that can be executed.\n",
    "\n",
    "    For this assignment (and class) you don't need to worry about Markdown cells, just focus on the code cells for now.\n",
    "    \n",
    "    ## 2) How does a Jupyter Notebook work?\n",
    "    Click on a code cell, it will outline itself in blue. Now you are in **Edit Mode** and can make change to the code.\n",
    "  \n",
    "    To run a cell, press `Shift + Enter` while the cell is highlighted in blue.\n",
    "\n",
    "    All the text and numbers inside a code cell will be read by a computer, unless you add a `#` in front, making it a **comment**. \n",
    "    Comments help explain what the code is doing to a programmer.\n",
    "   \n",
    "    All right! You are good to go! Answer the questions below.\n",
    "\n",
    "    # 1 Practice Running Code\n",
    "    Run the Python code in the code cell below. Click on the cell and press `Shift + Enter` to run it.\n",
    "\n",
    "    # reminder: if a \\\"#\\\" is in front of a line of code, your computer will NOT read it,\n",
    "    # have python print the following message by running this cell:\n",
    "    print(\\\"Python is awesome!\\\")"
   ]
  },
  {
   "cell_type": "code",
   "execution_count": 5,
   "id": "c765fb03-b02c-4ee8-b05a-6ad820e34538",
   "metadata": {},
   "outputs": [
    {
     "name": "stdout",
     "output_type": "stream",
     "text": [
      "Python is awesome!\n"
     ]
    }
   ],
   "source": [
    "print(\"Python is awesome!\")"
   ]
  },
  {
   "cell_type": "code",
   "execution_count": null,
   "id": "be0ae800-dede-40f7-b91e-eb78dcb0fe26",
   "metadata": {},
   "outputs": [],
   "source": [
    "# 2 Variables and Data Types,\n",
    "    In Python, we store information in **variables**. Variables have different types (e.g. numbers, text) that you need \n",
    "    to differentiate between. Let's explore some of these data types!\n",
    "\n",
    "    Run the example cell below.\n",
    "    age = 20 \n",
    "    # this is a variable (specifically an integer)\n",
    "    print(\\\"The age is:\\\", age)"
   ]
  },
  {
   "cell_type": "code",
   "execution_count": 8,
   "id": "b8ace627-abe6-4565-a65f-6213442fa722",
   "metadata": {},
   "outputs": [
    {
     "name": "stdout",
     "output_type": "stream",
     "text": [
      "The age is: 20\n"
     ]
    }
   ],
   "source": [
    "age = 20\n",
    "print(\"The age is:\", age)"
   ]
  },
  {
   "cell_type": "code",
   "execution_count": null,
   "id": "a0ad1a28-6559-45ae-a54a-40527ed137c4",
   "metadata": {},
   "outputs": [],
   "source": [
    "## 2.1 Integers (int)\n",
    "    **Integers** are whole numbers like `20` or `4218462`.\n",
    "    \n",
    "    ### Follow the tasks below:\n",
    "    1) Create a variable called `year`. Give it the value of our current year.\n",
    "    2) Print `The current year is:` followed by the value of year.\n",
    "    3) Print the type of your `year` variable by calling `type(year)` to confirm its an integer."
   ]
  },
  {
   "cell_type": "code",
   "execution_count": 10,
   "id": "092d57a0-cd57-452c-843b-5b58a43b3042",
   "metadata": {},
   "outputs": [
    {
     "name": "stdout",
     "output_type": "stream",
     "text": [
      "The current year is: 2024\n",
      "The type of 'year' is: <class 'int'>\n"
     ]
    }
   ],
   "source": [
    "year = 2024\n",
    "print(\"The current year is:\", year)\n",
    "print(\"The type of 'year' is:\", type(year))"
   ]
  },
  {
   "cell_type": "code",
   "execution_count": null,
   "id": "6c32d08e-e478-4ec8-ac2a-26d6b06df589",
   "metadata": {},
   "outputs": [],
   "source": [
    "## 2.2 Floating Point Numbers (float)\n",
    "    **Floats** (floating point numbers) are numberes with decimals like `3.14` or `184.143`.\n",
    "\n",
    "    ### Follow the tasks below:\n",
    "    1) Create a variable called `temperature`, set it to `98.6` and print it.\n",
    "    2) Print the type of your `temperature` variable by calling `type(temperature)` to confirm its a float."
   ]
  },
  {
   "cell_type": "code",
   "execution_count": 16,
   "id": "b3a776a1-cec5-407a-975b-5655411e5e54",
   "metadata": {},
   "outputs": [
    {
     "name": "stdout",
     "output_type": "stream",
     "text": [
      "The temperature is: 98.6\n",
      "The type of 'temperature' is: <class 'float'>\n"
     ]
    }
   ],
   "source": [
    "temperature = 98.6\n",
    "print(\"The temperature is:\", temperature)\n",
    "print(\"The type of 'temperature' is:\", type(temperature))"
   ]
  },
  {
   "cell_type": "code",
   "execution_count": null,
   "id": "e3ace755-f810-4207-ab31-12e125d16f18",
   "metadata": {},
   "outputs": [],
   "source": [
    "## 2.3 Strings (str)\n",
    "    **Strings** are text, which must be enclosed in quotes (`\\\"\\\"`).\n",
    "\n",
    "    ### Follow the tasks below:\n",
    "    1) Create a variable called `name` and set it to your name.\n",
    "    2) Print the type of your `name` variable to confirm its a string."
   ]
  },
  {
   "cell_type": "code",
   "execution_count": 14,
   "id": "b0bdb91b-04c3-4cf6-b479-009eeede3114",
   "metadata": {},
   "outputs": [
    {
     "name": "stdout",
     "output_type": "stream",
     "text": [
      "My name is: olivia\n",
      "The type of 'name' is: <class 'str'>\n"
     ]
    }
   ],
   "source": [
    "name = \"olivia\"\n",
    "print(\"My name is:\", name)\n",
    "print(\"The type of 'name' is:\", type(name))"
   ]
  },
  {
   "cell_type": "code",
   "execution_count": null,
   "id": "3123792e-ae0f-4d2e-b18d-b3783671dc46",
   "metadata": {},
   "outputs": [],
   "source": [
    "## 2.4 Booleans (bool)\n",
    "    **Booleans** take on a value of either `True` or `False`.\n",
    "\n",
    "    ### Follow the tasks below:\n",
    "    1) Create a variable called `weekend` and set it to either True or False depending on what day you are working on this assigenment.\n",
    "    2) Print the type of your `weekend` variable to confirm its a boolean."
   ]
  },
  {
   "cell_type": "code",
   "execution_count": 17,
   "id": "4050fc5f-a6f2-41df-abce-755fdb53ce60",
   "metadata": {},
   "outputs": [
    {
     "name": "stdout",
     "output_type": "stream",
     "text": [
      "The type of 'weekend' is: <class 'bool'>\n"
     ]
    }
   ],
   "source": [
    "weekend = True\n",
    "print(\"The type of 'weekend' is:\", type(weekend))"
   ]
  },
  {
   "cell_type": "code",
   "execution_count": null,
   "id": "9569b0f0-bfa4-42d8-8c34-c836edd8b62b",
   "metadata": {},
   "outputs": [],
   "source": [
    "## 2.5 Lists (list)\n",
    "    **Lists** store multiple items in a single variable. They can store multiple data types.\n",
    "\n",
    "    Example: `list = [\\\"red\\\", 4.2, False]\n",
    "\n",
    "    ### Follow the tasks below:\n",
    "    1) Create a variable called `favorite_colors` and add your three favorite colors.\n",
    "    2) Print the type of your `favorite_colors` variable to confirm its a list."
   ]
  },
  {
   "cell_type": "code",
   "execution_count": 20,
   "id": "890ba37d-0711-4bab-b958-94974b07957f",
   "metadata": {},
   "outputs": [
    {
     "name": "stdout",
     "output_type": "stream",
     "text": [
      "The type of 'favorite_colors' is: <class 'list'>\n"
     ]
    }
   ],
   "source": [
    "favorite_colors = [\"blue\", \"green\", \"orange\"]\n",
    "print(\"The type of 'favorite_colors' is:\", type(favorite_colors))"
   ]
  },
  {
   "cell_type": "code",
   "execution_count": null,
   "id": "635cef22-74cc-4600-a74c-3dabe59a3ed9",
   "metadata": {},
   "outputs": [],
   "source": [
    "# 3 Python = Fancy Calculator\n",
    "    In addition to just setting values to variables, you can also do arithmitc with Python.\n",
    "\n",
    "    Run the example cells below.\n",
    "\n",
    "    answer = 2 + 2 * 5\n",
    "    print(answer)\n",
    "\n",
    "    num1 = 4\n",
    "    num2 = 6\n",
    "    print(num1 + num2)\n",
    "\n",
    "    ### Follow the tasks below:\n",
    "    1) Create a variable called `radius` set it to 5.\n",
    "    2) Use Python to calculate the area of a the circle:\n",
    "    3) Print the answer.\n",
    "\n",
    "    Area = \\\\pi r^2"
   ]
  },
  {
   "cell_type": "code",
   "execution_count": 21,
   "id": "9b5fcc65-9c71-47e1-be72-cf3e0507f71b",
   "metadata": {},
   "outputs": [
    {
     "name": "stdout",
     "output_type": "stream",
     "text": [
      "12\n",
      "10\n"
     ]
    }
   ],
   "source": [
    "answer = 2 + 2 * 5\n",
    "print(answer)\n",
    "\n",
    "num1 = 4\n",
    "num2 = 6\n",
    "print(num1 + num2)"
   ]
  },
  {
   "cell_type": "code",
   "execution_count": 36,
   "id": "beed1ee1-79bf-4ab0-be9b-d48fd31340e0",
   "metadata": {},
   "outputs": [
    {
     "name": "stdout",
     "output_type": "stream",
     "text": [
      "The area of the circle is: 78.5\n"
     ]
    }
   ],
   "source": [
    "radius = 5\n",
    "area = 3.14 * radius ** 2\n",
    "print(\"The area of the circle is:\", area)"
   ]
  },
  {
   "cell_type": "code",
   "execution_count": null,
   "id": "ef77f897-ae39-404c-9d16-ecfd6666b6b9",
   "metadata": {},
   "outputs": [],
   "source": [
    "# 4 Errors and Debugging\n",
    "    A major part of coding is debugging or trouble-shooting errors! Run the cell below, you will get an error.\n",
    "\n",
    "    ### Follow the task below:\n",
    "    1) Fix the line of code below so it runs properly.\n",
    "\n",
    "    print(\\\"Something is wrong)"
   ]
  },
  {
   "cell_type": "code",
   "execution_count": 37,
   "id": "2fa78b3e-fcaa-4046-9000-620869cd6402",
   "metadata": {},
   "outputs": [
    {
     "name": "stdout",
     "output_type": "stream",
     "text": [
      "Something is wrong\n"
     ]
    }
   ],
   "source": [
    "print(\"Something is wrong\")"
   ]
  },
  {
   "cell_type": "code",
   "execution_count": null,
   "id": "8ff2acb2-67bb-4e53-af0e-bae53a63f2d4",
   "metadata": {},
   "outputs": [],
   "source": [
    "# 5) Proper Submission\n",
    "    To recieve full credit for this assignment make sure you do the following:\n",
    "    1) Copy this jupter notebook from the `ulab_2024` repository into **YOUR** local repository `ulab_yourname`. \n",
    "    Make sure you are editing this notebook inside your personal local repository.\n",
    "    \n",
    "    2) Follow the tasks. Make sure to run all the cells so that all output is visible.\n",
    "\n",
    "    3) Push this notebook to your remote repository. *Hint:* You will need to call `git add`, `git commit` and `git push` in your \n",
    "    command line. Refer to the lecture slides for more information.\n",
    "    \n",
    "    4) **WARNING!! IF YOU DO NOT FOLLOW THIS STEP YOU WILL RECIEVE A ZERO!**\n",
    "        1) Take a screenshot of your command line when you `push` this notebook from your local to remote repository. \n",
    "        If you choose to call `git add .` make sure to prove this notebook is included in that call (ex: call`ls` in your terminal right \n",
    "        before `git add .`.)\n",
    "\n",
    "        2)  Include that screenshot in your remote repository when you upload your GitHub repository to Gradescope!"
   ]
  }
 ],
 "metadata": {
  "kernelspec": {
   "display_name": "Python 3 (ipykernel)",
   "language": "python",
   "name": "python3"
  },
  "language_info": {
   "codemirror_mode": {
    "name": "ipython",
    "version": 3
   },
   "file_extension": ".py",
   "mimetype": "text/x-python",
   "name": "python",
   "nbconvert_exporter": "python",
   "pygments_lexer": "ipython3",
   "version": "3.12.4"
  }
 },
 "nbformat": 4,
 "nbformat_minor": 5
}
