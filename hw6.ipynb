{
 "cells": [
  {
   "cell_type": "markdown",
   "id": "21a1f0d2-d75c-4443-b816-1d1db3760454",
   "metadata": {},
   "source": [
    "# HW 6 - Iterables\n",
    "ULAB - Physics and Astronomy Division \\\n",
    "Due **Wednesday, October 30th, 2024 at 11:59pm** on Gradescope\n",
    "\n",
    "### REMINDER: Once you are done with this homework, make sure to include a screenshot of you pushing this notebook inside of your homework6 branch. Make sure to include this screenshot in your branch before submitting to Gradescope!\n",
    "\n",
    "### If there is no screenshot, then you will recieve a zero! \n",
    "\n",
    "General Tip (so you don't get silly points taken off):\n",
    "- Make sure **each function** follows good coding practices (i.e. a comment, detailed names, different steps on each line, etc)."
   ]
  },
  {
   "cell_type": "markdown",
   "id": "8dc7e46b-1e8e-486c-a2e9-d615c687028b",
   "metadata": {},
   "source": [
    "# 1 Lists\n",
    "\n",
    "## 1.1 List Slicing and Striding\n",
    "Write a **function** that takes in a list of integers and returns:\n",
    "\n",
    "- the first 5 elements\n",
    "- the last 5 elements\n",
    "- every 2nd element in the list\n",
    "- the list in reverse order.\n",
    "\n",
    "Use the test case below, along with two other ones (that you make-up):\n",
    "\n",
    "```\n",
    "list = [1, 2, 3, 4, 5, 6, 7, 8, 9, 10, 11, 12, 14, 15, 16, 17, 18, 19, 20]\n",
    "```"
   ]
  },
  {
   "cell_type": "code",
   "execution_count": 5,
   "id": "08dabd73-3dbc-4aab-843a-d4b81102835d",
   "metadata": {},
   "outputs": [
    {
     "name": "stdout",
     "output_type": "stream",
     "text": [
      "{'first_five': [1, 2, 3, 4, 5], 'last_five': [16, 17, 18, 19, 20], 'every_second': [1, 3, 5, 7, 9, 11, 14, 16, 18, 20], 'reverse_list': [20, 19, 18, 17, 16, 15, 14, 12, 11, 10, 9, 8, 7, 6, 5, 4, 3, 2, 1]}\n",
      "{'first_five': [10, 20, 30, 40, 50], 'last_five': [60, 70, 80, 90, 100], 'every_second': [10, 30, 50, 70, 90], 'reverse_list': [100, 90, 80, 70, 60, 50, 40, 30, 20, 10]}\n",
      "{'first_five': [2, 4, 6, 8, 10], 'last_five': [12, 14, 16, 18, 20], 'every_second': [2, 6, 10, 14, 18], 'reverse_list': [20, 18, 16, 14, 12, 10, 8, 6, 4, 2]}\n"
     ]
    }
   ],
   "source": [
    "# Your code here for 1.1\n",
    "def list_integers(lst):     # Function\n",
    "    first_five = lst[:5]     # Lists the first 5 elements\n",
    "    last_five = lst[-5:]     # Lists the last 5 elements\n",
    "    every_second = lst[::2]     # Lists every 2nd element\n",
    "    reverse_list = lst[::-1]     # Lists in reverse order\n",
    "\n",
    "    return {\n",
    "        \"first_five\": first_five,     # Returns \"first_five\" before listing the integers\n",
    "        \"last_five\": last_five,     # Returns \"last_five\" before listing the integers\n",
    "        \"every_second\": every_second,     # Returns \"every_second\" before listing the integers\n",
    "        \"reverse_list\": reverse_list     # Returns \"reverse_five\" before listing the integers\n",
    "    }\n",
    "\n",
    "# Test Case 1 (Provided)\n",
    "lst1 = [1, 2, 3, 4, 5, 6, 7, 8, 9, 10, 11, 12, 14, 15, 16, 17, 18, 19, 20]\n",
    "print(list_integers(lst1))\n",
    "\n",
    "# Test Case 2\n",
    "lst2 = [10, 20, 30, 40, 50, 60, 70, 80, 90, 100]\n",
    "print(list_integers(lst2))\n",
    "\n",
    "# Test Case 3\n",
    "lst3 = [2, 4, 6, 8, 10, 12, 14, 16, 18, 20]\n",
    "print(list_integers(lst3))"
   ]
  },
  {
   "cell_type": "markdown",
   "id": "92c77920-20fc-455e-bf52-10b5a518ed2d",
   "metadata": {},
   "source": [
    "## 1.2 Iterating Over Lists with For Loops\n",
    "Write a **function** that takes in a list, with a **for** loop to return: \n",
    "- the square of each number in the list\n",
    "- the cube of each even number in the list\n",
    "\n",
    "Use the test case below, along with two other ones (that you make-up):\n",
    "\n",
    "```\n",
    "list = [1, 2, 3, 4, 5, 6]\n",
    "```"
   ]
  },
  {
   "cell_type": "code",
   "execution_count": 6,
   "id": "5054c807-a247-4159-9ce1-43020bcc3000",
   "metadata": {},
   "outputs": [
    {
     "name": "stdout",
     "output_type": "stream",
     "text": [
      "Test Case 1: ([1, 4, 9, 16, 25, 36], [8, 64, 216])\n",
      "Test Case 2: ([100, 225, 400, 625, 900], [1000, 8000, 27000])\n",
      "Test Case 3: ([9, 36, 81, 144, 225, 324], [216, 1728, 5832])\n"
     ]
    }
   ],
   "source": [
    "# Your code here for 1.2\n",
    "def square_and_cube(lst):     # Function\n",
    "    squares = []     # Squares the given number\n",
    "    cubes_of_evens = []     # Cubes the even number\n",
    "    \n",
    "    for num in lst:     # For loop, to assign specific code in list\n",
    "        squares.append(num ** 2)    # Square of each number in the list\n",
    "        if num % 2 == 0:     # Check if the number is even\n",
    "            cubes_of_evens.append(num ** 3)     # Cube of each even number\n",
    "    \n",
    "    return squares, cubes_of_evens\n",
    "\n",
    "# Test Case 1 (Provided)\n",
    "lst1 = [1, 2, 3, 4, 5, 6]\n",
    "print(\"Test Case 1:\", square_and_cube(lst1))\n",
    "\n",
    "# Test Case 2\n",
    "lst2 = [10, 15, 20, 25, 30]\n",
    "print(\"Test Case 2:\", square_and_cube(lst2))\n",
    "\n",
    "# Test Case 3\n",
    "lst3 = [3, 6, 9, 12, 15, 18]\n",
    "print(\"Test Case 3:\", square_and_cube(lst3))"
   ]
  },
  {
   "cell_type": "markdown",
   "id": "e2e075da-c004-400d-b796-5435e096816d",
   "metadata": {},
   "source": [
    "# 2 Dictionaries\n",
    "We have not fully covered **dictionaries** in class, but a **dictionary** is a collection of key-value pairs. Each key is unique and is associated with a specific value. Like a real dictionary! \n",
    "\n",
    "You can create a dictionary by placing key-value pairs inside of curly brackets `{}` with a `:` separating the key from the value. \n",
    "\n",
    "Run the cell below for an example:"
   ]
  },
  {
   "cell_type": "code",
   "execution_count": 9,
   "id": "dbdb0f41-4f57-4524-ab51-ff1fc502bdfc",
   "metadata": {},
   "outputs": [
    {
     "name": "stdout",
     "output_type": "stream",
     "text": [
      "{'Mercury': 0.39, 'Venus': 0.72, 'Earth': 1.0, 'Mars': 1.52, 'Jupiter': 5.2, 'Saturn': 9.58, 'Uranus': 19.22, 'Neptune': 30.05}\n"
     ]
    }
   ],
   "source": [
    "# A dictionary that contains some data about the planets in our solar system\n",
    "planet_data = {\n",
    "    \"Mercury\": 0.39, \n",
    "    \"Venus\": 0.72,\n",
    "    \"Earth\": 1.00, # distance from the Sun in AU\n",
    "    \"Mars\": 1.52,\n",
    "    \"Jupiter\": 5.20,\n",
    "    \"Saturn\": 9.58,\n",
    "    \"Uranus\": 19.22,\n",
    "    \"Neptune\": 30.05\n",
    "}   \n",
    "\n",
    "print(planet_data) # print the dictonary"
   ]
  },
  {
   "cell_type": "markdown",
   "id": "886c93f4-0027-4969-ba67-cc12eca04c9c",
   "metadata": {},
   "source": [
    "## 2.1 Looping through a dictionary\n",
    "Write a function that takes in the `planet_data` dictionary and uses a `for` loop to print the names of each of the planets and its distance from the sun."
   ]
  },
  {
   "cell_type": "code",
   "execution_count": 7,
   "id": "a3ab065a-42f5-4aa0-8e0f-38e87c583464",
   "metadata": {
    "scrolled": true
   },
   "outputs": [
    {
     "name": "stdout",
     "output_type": "stream",
     "text": [
      "The distance of Mercury from the Sun is 0.39 AU\n",
      "The distance of Venus from the Sun is 0.72 AU\n",
      "The distance of Earth from the Sun is 1.0 AU\n",
      "The distance of Mars from the Sun is 1.52 AU\n",
      "The distance of Jupiter from the Sun is 5.2 AU\n",
      "The distance of Saturn from the Sun is 9.58 AU\n",
      "The distance of Uranus from the Sun is 19.22 AU\n",
      "The distance of Neptune from the Sun is 30.05 AU\n"
     ]
    }
   ],
   "source": [
    "# Your code here for 2.1\n",
    "def print_planet_distances(planet_data):     # Function\n",
    "    for planet, distance in planet_data.items():     # For loop\n",
    "        print(f\"The distance of {planet} from the Sun is {distance} AU\")     # Printing the data in a sentence\n",
    "\n",
    "planet_data = {     # Data provided from above\n",
    "    \"Mercury\": 0.39, \n",
    "    \"Venus\": 0.72,\n",
    "    \"Earth\": 1.00, \n",
    "    \"Mars\": 1.52,\n",
    "    \"Jupiter\": 5.20,\n",
    "    \"Saturn\": 9.58,\n",
    "    \"Uranus\": 19.22,\n",
    "    \"Neptune\": 30.05\n",
    "}\n",
    "\n",
    "print_planet_distances(planet_data)"
   ]
  },
  {
   "cell_type": "markdown",
   "id": "2b38b6fb-ce68-4f20-a8a1-ba241e8db53e",
   "metadata": {},
   "source": [
    "## 2.2 Dictionaries and Conditionals\n",
    "Write a function that uses a while loop to print all the planets that are a minimum distance of 5 AU from the Sun. "
   ]
  },
  {
   "cell_type": "code",
   "execution_count": 8,
   "id": "6e07cf13-efba-4a75-ad75-0428dc31108d",
   "metadata": {},
   "outputs": [
    {
     "name": "stdout",
     "output_type": "stream",
     "text": [
      "Jupiter\n",
      "Saturn\n",
      "Uranus\n",
      "Neptune\n"
     ]
    }
   ],
   "source": [
    "# Your code here for 2.2\n",
    "def planets_farther_than_five_au(planet_data):     # Function\n",
    "    planets = list(planet_data.items())     # Change from dictionary to a list of tuples\n",
    "    index = 0     # Begin with the first element\n",
    "    \n",
    "    while index < len(planets):     # While loop, allowing the code to be run repeatedly\n",
    "        planet, distance = planets[index]\n",
    "        if distance >= 5:     # Check if the planet's distance is greater than or equal to 5 AU\n",
    "            print(planet)     # Only print if above is true\n",
    "        index += 1    # Tells the code to check the next planet \n",
    "\n",
    "planet_data = {     # Data provided from above\n",
    "    \"Mercury\": 0.39, \n",
    "    \"Venus\": 0.72,\n",
    "    \"Earth\": 1.00, \n",
    "    \"Mars\": 1.52,\n",
    "    \"Jupiter\": 5.20,\n",
    "    \"Saturn\": 9.58,\n",
    "    \"Uranus\": 19.22,\n",
    "    \"Neptune\": 30.05\n",
    "}\n",
    "\n",
    "planets_farther_than_five_au(planet_data)"
   ]
  },
  {
   "cell_type": "markdown",
   "id": "5e1ba0c0-5dd9-44e8-895c-73a36d614949",
   "metadata": {},
   "source": [
    "# 3 Observing Stars in a Cluster\n",
    "Your goal is to calculate the total brightness of a group of stars in a star cluster and estimate how long it would take for a telescope to observer each star, depending on their brightness (magnitude). Here is some background information:\n",
    "- The brightness of a star, from a telescope, is measured by its **apparent magnitude**, a LOWER magnitude means a brighter star. A HIGHER magnitude means a fainter star. So a 4th magnitude star is much brighter than a 17th magnitude star.\n",
    "- To convert magnitude into brightness, use the following formula\n",
    "$$\n",
    "\\text{Brightness} = 10^{-\\frac{\\text{magnitude}}{2.5}}\n",
    "$$\n",
    "\n",
    "Use this list of magnitudes and time limit:\n",
    "\n",
    "```\n",
    "magnitudes = [12.5, 13.2, 14.8, 19.1, 21.0, 18.5, 15.3, 10.5, 23.0]\n",
    "time_limit = 500\n",
    "```\n",
    "\n",
    "Expected outcome (your solutions with be the answers to the ???):\n",
    "- Total brightness of the stars: ???\n",
    "- Total observation time for all observable stars: ???\n",
    "- Number of stars that can be observed within 500 seconds: ???"
   ]
  },
  {
   "cell_type": "markdown",
   "id": "336785a7-71bf-434d-982c-dd72dd29cf71",
   "metadata": {},
   "source": [
    "## 3.1 Calculate Brightness\n",
    "1) Write a **function** which inputs a list of star magnitudes (brightnesses).\n",
    "2) Inside your function, use a `for` loop to calculate (with the given formula) the brightness of each star.\n",
    "3) Inside your function, use a `for` loop to sum up the total brightness of all the stars.\n",
    "5) Have your function return the **total brightness** of all the stars and a **list of the brightnesses** of the stars.\n",
    "6) Test out your function with the **given** magnitude values."
   ]
  },
  {
   "cell_type": "code",
   "execution_count": 39,
   "id": "ccc331f4-c029-4a82-810b-4a78d0fa1a2a",
   "metadata": {},
   "outputs": [
    {
     "name": "stdout",
     "output_type": "stream",
     "text": [
      "Total brightness of the stars: 0.0000803720\n",
      "List of brightness of the stars: [1e-05, 5.248074602497734e-06, 1.2022644346174132e-06, 2.29086765276777e-08, 3.981071705534969e-09, 3.981071705534969e-08, 7.585775750291836e-07, 6.309573444801929e-05, 6.309573444801942e-10]\n"
     ]
    }
   ],
   "source": [
    "# Your code here for 3.1\n",
    "def calculate_total_brightness(magnitudes):     # Function for total brightness\n",
    "    brightness_list = []     # List storing brightness of each star\n",
    "    total_brightness = 0     # Variable storing total brightness\n",
    "\n",
    "    for magnitude in magnitudes:     # Calculate individual brightness values for each magnitude\n",
    "        brightness = 10 ** -(magnitude / 2.5)     # Formula to calculate the brightness\n",
    "        brightness_list.append(brightness)     # Add brightness to the list\n",
    "\n",
    "    for brightness in brightness_list:     # Sum up the total brightness\n",
    "        total_brightness += brightness     # Add brightness to total brightness\n",
    "\n",
    "    return total_brightness, brightness_list     # Return the total brightness and list of individual brightness values\n",
    "\n",
    "# Test Case (Provided)\n",
    "magnitudes = [12.5, 13.2, 14.8, 19.1, 21.0, 18.5, 15.3, 10.5, 23.0]\n",
    "\n",
    "total_brightness, brightnesses = calculate_total_brightness(magnitudes)\n",
    "total_observation_time, observable_star_count = calculate_observation_times(brightnesses)\n",
    "\n",
    "# Printing the results of the above functions\n",
    "print(f\"Total brightness of the stars: {total_brightness:.10f}\")\n",
    "print(f\"List of brightness of the stars: {brightnesses}\")"
   ]
  },
  {
   "cell_type": "markdown",
   "id": "9aff0e1c-9f88-4ebb-a05b-d39363d9e88e",
   "metadata": {},
   "source": [
    "## 3.2 Observation Time\n",
    "1) Write a **function** which inputs a list of star magnitudes (brightnesses).\n",
    "2) Inside your function, use a `for` loop to calculate the time to observe each star.\n",
    "- You can just assume each star's observation time is inversely proportional to its brightness with the following formula:\n",
    "\n",
    "$$\n",
    "\\text{Observation Time (in seconds)} \\propto \\frac{1}{\\text{Brightness}} \n",
    "$$\n",
    "\n",
    "3) Inside you function, write a `condition` that ignores stars that have a magnitude greater than 20 (very very faint stars).\n",
    "4) Have your function return the **total observation time** (ignoring >20 magnitudes) and a **list of the times** it would take to observe each individual star.\n",
    "5) Test out your function with the **given** magnitude values."
   ]
  },
  {
   "cell_type": "code",
   "execution_count": 29,
   "id": "044d17cf-82a8-44b6-8958-447632f713f6",
   "metadata": {},
   "outputs": [
    {
     "name": "stdout",
     "output_type": "stream",
     "text": [
      "Total observation time for observable stars: 71226863.0524924994\n",
      "List of individual observation times: [99999.99999999999, 190546.07179632442, 831763.7711026708, 43651583.22401666, 25118864.315095823, 1318256.7385564074, 15848.931924611143]\n"
     ]
    }
   ],
   "source": [
    "# Your code here for 3.2\n",
    "def calculate_observation_time(magnitudes, time_limit=500):     # Function\n",
    "    observation_times = []     # List to store the observation times of each star\n",
    "    total_observation_time = 0     # Variable to store the total observation time\n",
    "\n",
    "    for magnitude in magnitudes:     # Loop through each magnitude to calculate observation time\n",
    "        if magnitude > 20:     # Skip stars with a magnitude greater than 20 (very very faint stars)\n",
    "            continue\n",
    "        \n",
    "        brightness = 10 ** - (magnitude / 2.5)     # Calculate brightness of the star\n",
    "        observation_time = 1 / brightness     # Calculate observation time (inverse proportional to brightness)\n",
    "        observation_times.append(observation_time)     # Add the observation time to the list\n",
    "        total_observation_time += observation_time     # Add the observation time to the total\n",
    "\n",
    "    return total_observation_time, observation_times     # Returns the total observational time and list of individual observation times\n",
    "\n",
    "# Test Case (Provided)\n",
    "magnitudes = [12.5, 13.2, 14.8, 19.1, 21.0, 18.5, 15.3, 10.5, 23.0]\n",
    "\n",
    "total_time, observation_times = calculate_observation_time(magnitudes)\n",
    "\n",
    "# Printing the results of the above functions\n",
    "print(f\"Total observation time for observable stars: {total_time:.10f}\")\n",
    "print(f\"List of individual observation times: {observation_times}\")"
   ]
  },
  {
   "cell_type": "markdown",
   "id": "102d3c15-0b4f-48a7-8fdc-f896c1841aca",
   "metadata": {},
   "source": [
    "## 3.3 Time Until the Limit\n",
    "1) Write a **function** which inputs a list of star magnitudes (brightnesses) and time limit.\n",
    "   - Make your time limit a default argument.\n",
    "2) Inside your function, make a counter called `total time` and set it to 0.\n",
    "3) Inside your function, use a `while` loop to set the time limit of your observation.\n",
    "4) Inside your function, use assigment operators to update the `total time` observed. \n",
    "5) Inside your function, use a `condition` to skip stars with magnitude 20 or greater. \n",
    "6) Have your function return the **number of stars that can be observed** within the time limit and **how long the observation will take** (this should be less than the time limit).\n",
    "7) Test out your function with the **given** magnitude values and time limit."
   ]
  },
  {
   "cell_type": "code",
   "execution_count": 42,
   "id": "5a541a62-0903-41bd-91c9-ee21172069a3",
   "metadata": {},
   "outputs": [
    {
     "name": "stdout",
     "output_type": "stream",
     "text": [
      "Total brightness of the stars: 0.0000803720\n",
      "Total observation time for observable stars: 0.0000000000 seconds\n",
      "Number of stars that can be observed within 500 seconds: 0\n"
     ]
    }
   ],
   "source": [
    "def calculate_stars_observed(magnitudes, time_limit=500):\n",
    "    total_brightness = 0     # Total brightness of all stars\n",
    "    total_time = 0     # Total time for observation\n",
    "    stars_observed = 0     # Number of stars observed\n",
    "    index = 0           # Initialize index to loop through the magnitudes list\n",
    "    \n",
    "    while index < len(magnitudes) and total_time < time_limit:\n",
    "        magnitude = magnitudes[index]\n",
    "        \n",
    "        if magnitude >= 20:     # Skip stars with magnitude >= 20\n",
    "            index += 1\n",
    "            continue\n",
    "        \n",
    "        brightness = 10 ** - (magnitude / 2.5)     # Calculate brightness\n",
    "        observation_time = 1 / brightness     # Observation time is inverse of brightness\n",
    "\n",
    "        if total_time + observation_time <= time_limit:     # Check if adding this observation time exceeds the time limit\n",
    "            total_time += observation_time     # Update total observation time\n",
    "            stars_observed += 1     # Increment star count\n",
    "\n",
    "        index += 1     # Move to the next star in the list\n",
    "\n",
    "    return stars_observed, total_time\n",
    "\n",
    "# Test Case (Provided)\n",
    "magnitudes = [12.5, 13.2, 14.8, 19.1, 21.0, 18.5, 15.3, 10.5, 23.0]\n",
    "time_limit = 500\n",
    "\n",
    "stars_count, observation_time = calculate_stars_observed(magnitudes, time_limit)\n",
    "\n",
    "# Printing the results of the above functions\n",
    "print(f\"Total brightness of the stars: {total_brightness:.10f}\")\n",
    "print(f\"Total observation time for observable stars: {observation_time:.10f} seconds\")\n",
    "print(f\"Number of stars that can be observed within {time_limit} seconds: {stars_count}\")"
   ]
  },
  {
   "cell_type": "markdown",
   "id": "d2ab246f-9570-483e-b35b-cf1056f20936",
   "metadata": {},
   "source": [
    "## 3.4 Call Upon Your Functions\n",
    "You do not need to rewrite your functions once you have written them! That's what is so awesome about **functions**! \n",
    "\n",
    "1) With a new test case (different magnitudes and time limit) call your three functions you wrote above.\n",
    "2) Print out their return statements, example:\n",
    "\n",
    "```\n",
    ">>> my_return = my_function(my_argument):\n",
    ">>> print(my_return)\n",
    "```"
   ]
  },
  {
   "cell_type": "code",
   "execution_count": 46,
   "id": "4c4c9389-04f5-49bc-823c-a12d6c003b60",
   "metadata": {},
   "outputs": [
    {
     "name": "stdout",
     "output_type": "stream",
     "text": [
      "Total brightness: 0.7140165048\n",
      "Individual brightness values: [0.3981071705534972, 0.251188643150958, 0.06309573444801933, 0.001584893192461114, 3.9810717055349695e-05, 2.5118864315095823e-07, 1.584893192461111e-09, 3.9810717055349695e-12]\n",
      "Total observation time for observable stars: 4006843.8690846069\n",
      "Individual observation times: [2.5118864315095806, 3.9810717055349727, 15.848931924611133, 630.957344480193, 25118.86431509582, 3981071.705534969]\n",
      "Number of stars that can be observed: 5\n",
      "Total observation time: 25772.1635496377 seconds\n"
     ]
    }
   ],
   "source": [
    "# Your code here for 3.4\n",
    "# Test Case 2\n",
    "new_magnitudes = [1.0, 1.5, 3.0, 7.0, 11.0, 16.5, 22.0, 28.5]\n",
    "new_time_limit = 2000000\n",
    "\n",
    "# Total brightness and individual brightness values\n",
    "total_brightness, brightnesses = calculate_total_brightness(new_magnitudes)\n",
    "print(f\"Total brightness: {total_brightness:.10f}\")\n",
    "print(f\"Individual brightness values: {brightnesses}\")\n",
    "\n",
    "# Total observation time and individual observation times (excluding stars with magnitude >= 20)\n",
    "total_time, observation_times = calculate_observation_time(new_magnitudes, new_time_limit)\n",
    "print(f\"Total observation time for observable stars: {total_time:.10f}\")\n",
    "print(f\"Individual observation times: {observation_times}\")\n",
    "\n",
    "# Number of stars that can be observed and total observation time within time limit\n",
    "stars_count, observation_time = calculate_stars_observed(new_magnitudes, new_time_limit)\n",
    "print(f\"Number of stars that can be observed: {stars_count}\")\n",
    "print(f\"Total observation time: {observation_time:.10f} seconds\")"
   ]
  },
  {
   "cell_type": "markdown",
   "id": "daba92d4-a646-4efc-824d-85b52ea3c573",
   "metadata": {},
   "source": [
    "# 4 Debug the Quadratic Function!\n",
    "The code below does not follow proper coding hygiene (good coding sklls) and is riddled with bugs! Answer the following question and follow the steps below:\n",
    "1) When you run the cell, what is the first error you get? What does this mean? What are three other things wrong with this function?\n",
    "2) Fix the bugs! No importing packages.\n",
    "3) Rewrite the code, such that it follows \"good coding skills\".\n",
    "\n",
    "Try out the test case of `a = 2`, `b = -5` and `c = 3`. You should get `(1.5, 1.0)`. Try out your own test case as well. "
   ]
  },
  {
   "cell_type": "code",
   "execution_count": 16,
   "id": "cd66dd28-f8d3-447c-8d20-ff3e31bfaa07",
   "metadata": {},
   "outputs": [
    {
     "name": "stdout",
     "output_type": "stream",
     "text": [
      "Test Case 1 Result: (1.5, 1.0)\n",
      "Test Case 2 Result: (2.0, 1.0)\n"
     ]
    }
   ],
   "source": [
    "def quadratic_function(a, b, c):\n",
    "    bottom = 2 * a    # Bottom of the quadratic formula\n",
    "    pos_answer = (-b + (b**2 - 4 * a * c)**(1/2)) / bottom     # Solution when using positive part of quadratic formula\n",
    "    neg_answer = (-b - (b**2 - 4 * a * c)**(1/2)) / bottom     # Solution when using negative part of quadratic formula\n",
    "    \n",
    "    return pos_answer, neg_answer\n",
    "\n",
    "# Test Case 1\n",
    "a1 = 2     # Defining a1, b1, and c1 for test case 1\n",
    "b1 = -5\n",
    "c1 = 3\n",
    "result1 = quadratic_function(a1, b1, c1)\n",
    "print(f\"Test Case 1 Result: {result1}\")     # Expected outcome (1.5, 1.0)\n",
    "\n",
    "# Test Case 2\n",
    "a2 = 1     # Defining a2, b2, and c2 for test case 2\n",
    "b2 = -3\n",
    "c2 = 2\n",
    "result2 = quadratic_function(a2, b2, c2)\n",
    "print(f\"Test Case 2 Result: {result2}\")"
   ]
  },
  {
   "cell_type": "markdown",
   "id": "8cf33b19-9bca-484e-8129-d8a4896a1bfa",
   "metadata": {},
   "source": [
    "# 5 Proper Submission\n",
    "To recieve full credit for this assignment make sure you do the following:\n",
    "1) Copy this jupter notebook from the `ulab_2024` repository into **YOUR** local `homework` branch.\n",
    "   \n",
    "3) Follow the tasks. Make sure to run all the cells so that all output is visible.\n",
    "   \n",
    "5) Push this notebook to your remote `homework6` branch. Refer to the lecture slides for more information.\n",
    "      \n",
    "6) **WARNING!! IF YOU DO NOT FOLLOW THIS STEP YOU WILL RECIEVE A ZERO!**\n",
    "   1) Take a screenshot of your command line when you `push` this notebook from your local `homework6` branch to your remote `homework6` branch. Make sure to prove that you are inside a branch besides `main` or `master` by calling `git branch` and make sure to prove that your `homework6` branch only contains the homework4 folder of Jupyter Notebook you copied over from `ulab_2024` (which can be done by calling `ls`). You could also call `git status` before/after as a way to prove you pushed the proper files to the correct branches.\n",
    "   2)  Include that screenshot in your remote branch when you upload your GitHub branch to Gradescope!"
   ]
  }
 ],
 "metadata": {
  "kernelspec": {
   "display_name": "Python 3 (ipykernel)",
   "language": "python",
   "name": "python3"
  },
  "language_info": {
   "codemirror_mode": {
    "name": "ipython",
    "version": 3
   },
   "file_extension": ".py",
   "mimetype": "text/x-python",
   "name": "python",
   "nbconvert_exporter": "python",
   "pygments_lexer": "ipython3",
   "version": "3.12.4"
  }
 },
 "nbformat": 4,
 "nbformat_minor": 5
}
