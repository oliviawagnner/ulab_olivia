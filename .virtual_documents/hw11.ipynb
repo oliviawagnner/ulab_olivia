





# I certify that I did not use AI tools, such as ChatGPT, to generate or write code for this assignment. All work submitted is my own and reflects my understanding of the material

# Olivia Wagner





def keps_third_law(a): # Takes in a value, a, which is the semi-major axis
    return a ** (3/2) # Returns 'T', though it is not included in the function, which is a^(3/2)





planet_a = 0.5 # Assigns value to planet_a
planet_b = 1.0 # Assigns value to planet_b
planet_c = 1.5 # Assigns value to planet_c

print(keps_third_law(planet_a)) # Calls on keps_third_law function, using the assigned value of planet_a
print(keps_third_law(planet_b)) # Calls on keps_third_law function, using the assigned value of planet_b
print(keps_third_law(planet_c)) # Calls on keps_third_law function, using the assigned value of planet_c





import numpy as np





# You only need to run it once, as long as you execute the import code. This is because then it runs in the whole jupyter notebook.





def keps_third_law2(a):
    return np.power(a, (3/2))

planet_a2 = 0.5 # Assigns value to planet_a2
planet_b2 = 1.0 # Assigns value to planet_b2
planet_c2 = 1.5 # Assigns value to planet_c2





import time





a = 5

start_time1 = time.time() # Start time
result1 = keps_third_law(a) # Links to function (not using numpy)
end_time1 = time.time() # End time
total1 = end_time1 - start_time1 # Total time

start_time2 = time.time() # Start time
result2 = keps_third_law2(a) # Links to numpy funtion
end_time2 = time.time() # End time
total2 = end_time2 - start_time2 # Total time

print(total1) # Time to run keps_third_law function
print(total2) # Time to run keps_third_law2 function





# The funtion keps_third_law2 is faster (which is the one using numpy). I think it is faster because numpy is a build in program, whereas the first funtion manually runs each value. This tells me that numpy is more efficient, since it gives you the answers in less time. It probably would be better to use on big projects/codes.





my_list = [(n/4) for n in range(1,1000)] # Creates 1000 semi-major axis values





a = my_list

start_time3 = time.time() # Start time
for a in my_list: # For loop, running through my_list
    result3 = keps_third_law(a) # Connects to function (not numpy)
    end_time3 = time.time() # End time
total3 = end_time3 - start_time3 # Total time

start_time4 = time.time() # Start time
for a in my_list: # For loop, running through my_list
    result4 = keps_third_law(a) # Connects to numpy function
    end_time4 = time.time() # End time
total4 = end_time4 - start_time4 # Total time

print(total3) # Time to run keps_third_law function
print(total4) # Time to run keps_third_law2 function





# Again, the numpy function is faster, since it uses its algorithm. This again says that numpy is more efficient. But the margin of difference between the two is really close, thus meaning that the numpy function is faster but not by much.








radii = [1.2, 0.8, 1.5, 2.0, 1.0, 0.6] # Radii
temperatures = [300, 400, 350, 280, 500, 450] # Temps

def exoplanets(radii, temperatures): # Function with inputs of radii and temperatures
    for i in range(len(radii)): # Loop that goes through the radii 
        if temperatures[i] < 350: # If statement to find the radii associated with temps under 350 K
            print(radii[i])  # Prints the radii
            
exoplanets(radii, temperatures)





radii = [1.2, 0.8, 1.5, 2.0, 1.0, 0.6] # Radii
print(radii[:3]) # Slice the list in half





exoplanet_dictionary = {radii[i]: temperatures[i] for i in range(len(radii))}
print(exoplanet_dictionary)





exoplanet_data = { # Dictionary
    "exoplanet_names": ["planet1", "planet2", "planet3", "planet4", "planet5", "planet6"],  # Planet names
    "radii": [1.2, 0.8, 1.5, 2.0, 1.0, 0.6],  # Radii
    "temperatures": [300, 400, 350, 280, 500, 450]  # Temperatures
}





new_exoplanet_data = { # New dictionary
    "exoplanet_names": [exoplanet_data["exoplanet_names"][i] for i in range(len(exoplanet_data["radii"])) if 1.0 <= exoplanet_data["radii"][i] <= 2.0], 
    # Planet names that have a radius 1.0 <= i <= 2
    "radii": [exoplanet_data["radii"][i] for i in range(len(exoplanet_data["radii"])) if 1.0 <= exoplanet_data["radii"][i] <= 2.0], 
    # Radii between 1.0 <= i <= 2
    "temperatures": [exoplanet_data["temperatures"][i] for i in range(len(exoplanet_data["radii"])) if 1.0 <= exoplanet_data["radii"][i] <= 2.0] 
    # Planet temperatures that have an associated radius 1.0 <= i <= 2
}
print(new_exoplanet_data)





my_list_array = np.array(my_list) # Converting list to array





my_list_mean = np.mean(my_list)
my_list_median = np.median(my_list)
my_list_min = np.min(my_list)
my_list_max = np.max(my_list)

print(my_list_mean)
print(my_list_median)
print(my_list_min)
print(my_list_max)





my_list_add = np.add(my_list, my_list) # Doubles each value in my_list to my_list, by adding it to itself.





radii = [1.2, 0.8, 1.5, 2.0, 1.0, 0.6] # Radii
temperatures = [300, 400, 350, 280, 500, 450] # Temperatures

two_dim_array = np.array([radii, temperatures]) # Uses an array from numpy, radii on the top row and temperatures on the bottom
print(two_dim_array)





for i in two_dim_array: # Loops through the array's rows
    for k in i: # Loops through the columns of each array (thus singling out each value)
        if k == 350: # The value in the second row, third column is 350. So set the desired value to 350, so that the code prints out 350
            print(k)





print(two_dim_array[1, 2]) # Uses numpy to directly print out the value





import matplotlib.pyplot as plt # Imports the package to make a plot

semi_major_axes = [0.5, 1.0, 2.0, 1.5, 1.2, 0.8] # Semi-major axes data (given)
orbital_periods = [keps_third_law(a) for a in semi_major_axes] # Calls on the keps_third_law function (from question 1) and runs it through the values of a from the semi_major_axes

plt.scatter(semi_major_axes, orbital_periods, label="Exoplanets") # Creates a scatter plot, and calls on the data above

plt.xlabel("Semi-Major Axis") # Labels x-axis
plt.ylabel("Orbital Period") # Labels y-axis
plt.title("Orbital Periods of Exoplanets") # Labels the plot

plt.legend() # Creates a legend, which stores the Exoplanets label
plt.show() # Shows the plot





radii = [1.2, 0.8, 1.5, 2.0, 1.0, 0.6] # Given data
temperatures = [300, 400, 350, 280, 500, 450] # Given data

plt.bar(radii, temperatures, label="Planets") # Creates a bar plot and calls on the data above

plt.xlabel("Radii") # Labels x-axis
plt.ylabel("Equilibrium Temperature (K)") # Labels y-axis
plt.title("Equilibrium Temperatures vs. Radii") # Labels the plot

plt.legend() # Makes a legend, which stores the planets label
plt.show() # Shows the plot





fig, (ax1, ax2) = plt.subplots(1, 2)  # Makes the plots on the same figure

# Scatter plot
ax1.scatter(semi_major_axes, orbital_periods, label="Exoplanets")
ax1.set_xlabel("Semi-Major Axis") # Labels x-axis
ax1.set_ylabel("Orbital Period") # Labels y-axis
ax1.set_title("Orbital Periods of Exoplanets") # Labels the plot
ax1.legend() # Makes a legend

# Bar plot
ax2.bar(radii, temperatures, label="Planets")
ax2.set_xlabel("Radii") # Labels x-axis
ax2.set_ylabel("Equilibrium Temperature (K)") # Labels y-axis
ax2.set_title("Equilibrium Temperatures vs. Radii") # Labels the plot
ax2.legend() # Makes a legend

plt.show() # Displays the plots





import kepler.py



